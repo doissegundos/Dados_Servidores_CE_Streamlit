{
 "cells": [
  {
   "cell_type": "code",
   "execution_count": 32,
   "metadata": {},
   "outputs": [],
   "source": [
    "import pandas as pd"
   ]
  },
  {
   "cell_type": "markdown",
   "metadata": {},
   "source": [
    "#### Dados disponiveis em: https://cearatransparente.ce.gov.br/portal-da-transparencia/servidores?stats_month_year=03/2022&utf8=%E2%9C%93&__=__"
   ]
  },
  {
   "cell_type": "markdown",
   "metadata": {},
   "source": [
    "<img src='imagens/dicionario.png'>"
   ]
  },
  {
   "cell_type": "code",
   "execution_count": 68,
   "metadata": {},
   "outputs": [
    {
     "data": {
      "text/html": [
       "<div>\n",
       "<style scoped>\n",
       "    .dataframe tbody tr th:only-of-type {\n",
       "        vertical-align: middle;\n",
       "    }\n",
       "\n",
       "    .dataframe tbody tr th {\n",
       "        vertical-align: top;\n",
       "    }\n",
       "\n",
       "    .dataframe thead th {\n",
       "        text-align: right;\n",
       "    }\n",
       "</style>\n",
       "<table border=\"1\" class=\"dataframe\">\n",
       "  <thead>\n",
       "    <tr style=\"text-align: right;\">\n",
       "      <th></th>\n",
       "      <th>Servidor</th>\n",
       "      <th>Orgao</th>\n",
       "      <th>Cargo</th>\n",
       "      <th>SituacaoFuncional</th>\n",
       "      <th>TotalDescontos</th>\n",
       "      <th>AbatimentoTeto</th>\n",
       "      <th>OutrosDescontos</th>\n",
       "      <th>SalarioBruto</th>\n",
       "      <th>SalarioLiquido</th>\n",
       "      <th>Diarias</th>\n",
       "    </tr>\n",
       "  </thead>\n",
       "  <tbody>\n",
       "    <tr>\n",
       "      <th>0</th>\n",
       "      <td>ANTONIO MARCONI LEMOS DA SILVA</td>\n",
       "      <td>CGE</td>\n",
       "      <td>AUDITOR DE CONTROLE INTERNO</td>\n",
       "      <td>Ativo</td>\n",
       "      <td>15028.27</td>\n",
       "      <td>3511.81</td>\n",
       "      <td>11516.46</td>\n",
       "      <td>38974.03</td>\n",
       "      <td>23945.76</td>\n",
       "      <td>0.0</td>\n",
       "    </tr>\n",
       "    <tr>\n",
       "      <th>1</th>\n",
       "      <td>DENISE ANDRADE ARAUJO</td>\n",
       "      <td>CGE</td>\n",
       "      <td>AUDITOR DE CONTROLE INTERNO</td>\n",
       "      <td>Ativo</td>\n",
       "      <td>14714.46</td>\n",
       "      <td>0.00</td>\n",
       "      <td>14714.46</td>\n",
       "      <td>28266.44</td>\n",
       "      <td>13551.98</td>\n",
       "      <td>0.0</td>\n",
       "    </tr>\n",
       "    <tr>\n",
       "      <th>2</th>\n",
       "      <td>ANTONIO SERGIO BELTRAO MAFRA</td>\n",
       "      <td>CGE</td>\n",
       "      <td>AUDITOR DE CONTROLE INTERNO</td>\n",
       "      <td>Ativo</td>\n",
       "      <td>9215.62</td>\n",
       "      <td>0.00</td>\n",
       "      <td>9215.62</td>\n",
       "      <td>26644.73</td>\n",
       "      <td>17429.11</td>\n",
       "      <td>0.0</td>\n",
       "    </tr>\n",
       "    <tr>\n",
       "      <th>3</th>\n",
       "      <td>EMERSON CARVALHO DE LIMA</td>\n",
       "      <td>CGE</td>\n",
       "      <td>AUDITOR DE CONTROLE INTERNO</td>\n",
       "      <td>Ativo</td>\n",
       "      <td>12159.20</td>\n",
       "      <td>0.00</td>\n",
       "      <td>12159.20</td>\n",
       "      <td>36085.57</td>\n",
       "      <td>23926.37</td>\n",
       "      <td>0.0</td>\n",
       "    </tr>\n",
       "    <tr>\n",
       "      <th>4</th>\n",
       "      <td>GEORGE DANTAS NUNES</td>\n",
       "      <td>CGE</td>\n",
       "      <td>AUDITOR DE CONTROLE INTERNO</td>\n",
       "      <td>Ativo</td>\n",
       "      <td>8545.36</td>\n",
       "      <td>0.00</td>\n",
       "      <td>8545.36</td>\n",
       "      <td>25002.97</td>\n",
       "      <td>16457.61</td>\n",
       "      <td>0.0</td>\n",
       "    </tr>\n",
       "    <tr>\n",
       "      <th>...</th>\n",
       "      <td>...</td>\n",
       "      <td>...</td>\n",
       "      <td>...</td>\n",
       "      <td>...</td>\n",
       "      <td>...</td>\n",
       "      <td>...</td>\n",
       "      <td>...</td>\n",
       "      <td>...</td>\n",
       "      <td>...</td>\n",
       "      <td>...</td>\n",
       "    </tr>\n",
       "    <tr>\n",
       "      <th>159832</th>\n",
       "      <td>ANA PAULA DE MOURA</td>\n",
       "      <td>SEDUC-CPTD</td>\n",
       "      <td>PROF CTPD PEDAG</td>\n",
       "      <td>Ativo</td>\n",
       "      <td>642.01</td>\n",
       "      <td>0.00</td>\n",
       "      <td>642.01</td>\n",
       "      <td>4105.63</td>\n",
       "      <td>3463.62</td>\n",
       "      <td>0.0</td>\n",
       "    </tr>\n",
       "    <tr>\n",
       "      <th>159833</th>\n",
       "      <td>JOSE THOME DA FROTA</td>\n",
       "      <td>SEDET</td>\n",
       "      <td>Coordenador</td>\n",
       "      <td>Ativo</td>\n",
       "      <td>406.45</td>\n",
       "      <td>0.00</td>\n",
       "      <td>406.45</td>\n",
       "      <td>1884.65</td>\n",
       "      <td>1478.20</td>\n",
       "      <td>0.0</td>\n",
       "    </tr>\n",
       "    <tr>\n",
       "      <th>159834</th>\n",
       "      <td>MARIA APARECIDA MOURA DE LIMA</td>\n",
       "      <td>SEDUC-CPTD</td>\n",
       "      <td>PROF CTPD PEDAG</td>\n",
       "      <td>Ativo</td>\n",
       "      <td>165.57</td>\n",
       "      <td>0.00</td>\n",
       "      <td>165.57</td>\n",
       "      <td>1839.71</td>\n",
       "      <td>1674.14</td>\n",
       "      <td>0.0</td>\n",
       "    </tr>\n",
       "    <tr>\n",
       "      <th>159835</th>\n",
       "      <td>TIAGO REZENDE LEITE</td>\n",
       "      <td>SEDET</td>\n",
       "      <td>Coordenador</td>\n",
       "      <td>Ativo</td>\n",
       "      <td>473.39</td>\n",
       "      <td>0.00</td>\n",
       "      <td>473.39</td>\n",
       "      <td>3923.40</td>\n",
       "      <td>3450.01</td>\n",
       "      <td>0.0</td>\n",
       "    </tr>\n",
       "    <tr>\n",
       "      <th>159836</th>\n",
       "      <td>LUIZA CRISTINA DE ALENCAR RODRIGUES</td>\n",
       "      <td>SEDET</td>\n",
       "      <td>Coordenador</td>\n",
       "      <td>Ativo</td>\n",
       "      <td>261.45</td>\n",
       "      <td>0.00</td>\n",
       "      <td>261.45</td>\n",
       "      <td>2955.95</td>\n",
       "      <td>2694.50</td>\n",
       "      <td>0.0</td>\n",
       "    </tr>\n",
       "  </tbody>\n",
       "</table>\n",
       "<p>159837 rows × 10 columns</p>\n",
       "</div>"
      ],
      "text/plain": [
       "                                   Servidor       Orgao  \\\n",
       "0            ANTONIO MARCONI LEMOS DA SILVA         CGE   \n",
       "1                     DENISE ANDRADE ARAUJO         CGE   \n",
       "2              ANTONIO SERGIO BELTRAO MAFRA         CGE   \n",
       "3                  EMERSON CARVALHO DE LIMA         CGE   \n",
       "4                       GEORGE DANTAS NUNES         CGE   \n",
       "...                                     ...         ...   \n",
       "159832                   ANA PAULA DE MOURA  SEDUC-CPTD   \n",
       "159833                  JOSE THOME DA FROTA       SEDET   \n",
       "159834        MARIA APARECIDA MOURA DE LIMA  SEDUC-CPTD   \n",
       "159835                  TIAGO REZENDE LEITE       SEDET   \n",
       "159836  LUIZA CRISTINA DE ALENCAR RODRIGUES       SEDET   \n",
       "\n",
       "                              Cargo SituacaoFuncional  TotalDescontos  \\\n",
       "0       AUDITOR DE CONTROLE INTERNO             Ativo        15028.27   \n",
       "1       AUDITOR DE CONTROLE INTERNO             Ativo        14714.46   \n",
       "2       AUDITOR DE CONTROLE INTERNO             Ativo         9215.62   \n",
       "3       AUDITOR DE CONTROLE INTERNO             Ativo        12159.20   \n",
       "4       AUDITOR DE CONTROLE INTERNO             Ativo         8545.36   \n",
       "...                             ...               ...             ...   \n",
       "159832              PROF CTPD PEDAG             Ativo          642.01   \n",
       "159833                  Coordenador             Ativo          406.45   \n",
       "159834              PROF CTPD PEDAG             Ativo          165.57   \n",
       "159835                  Coordenador             Ativo          473.39   \n",
       "159836                  Coordenador             Ativo          261.45   \n",
       "\n",
       "        AbatimentoTeto  OutrosDescontos  SalarioBruto  SalarioLiquido  Diarias  \n",
       "0              3511.81         11516.46      38974.03        23945.76      0.0  \n",
       "1                 0.00         14714.46      28266.44        13551.98      0.0  \n",
       "2                 0.00          9215.62      26644.73        17429.11      0.0  \n",
       "3                 0.00         12159.20      36085.57        23926.37      0.0  \n",
       "4                 0.00          8545.36      25002.97        16457.61      0.0  \n",
       "...                ...              ...           ...             ...      ...  \n",
       "159832            0.00           642.01       4105.63         3463.62      0.0  \n",
       "159833            0.00           406.45       1884.65         1478.20      0.0  \n",
       "159834            0.00           165.57       1839.71         1674.14      0.0  \n",
       "159835            0.00           473.39       3923.40         3450.01      0.0  \n",
       "159836            0.00           261.45       2955.95         2694.50      0.0  \n",
       "\n",
       "[159837 rows x 10 columns]"
      ]
     },
     "execution_count": 68,
     "metadata": {},
     "output_type": "execute_result"
    }
   ],
   "source": [
    "df = pd.read_csv(\"datasets/servidores_202202.csv\",names=['Servidor','Orgao','Cargo','SituacaoFuncional','TotalDescontos','AbatimentoTeto','OutrosDescontos','SalarioBruto','SalarioLiquido','Diarias'])\n",
    "df"
   ]
  },
  {
   "cell_type": "markdown",
   "metadata": {},
   "source": [
    "### Verificando se existem dados nulos ou duplicados."
   ]
  },
  {
   "cell_type": "code",
   "execution_count": 69,
   "metadata": {},
   "outputs": [
    {
     "data": {
      "text/plain": [
       "Servidor                0\n",
       "Orgao                   0\n",
       "Cargo                2941\n",
       "SituacaoFuncional      76\n",
       "TotalDescontos          0\n",
       "AbatimentoTeto          0\n",
       "OutrosDescontos         0\n",
       "SalarioBruto            0\n",
       "SalarioLiquido          0\n",
       "Diarias                 0\n",
       "dtype: int64"
      ]
     },
     "execution_count": 69,
     "metadata": {},
     "output_type": "execute_result"
    }
   ],
   "source": [
    "df.isnull().sum()"
   ]
  },
  {
   "cell_type": "markdown",
   "metadata": {},
   "source": [
    "#### Altera todos os valores vazios de Cargo e Situação Funcional"
   ]
  },
  {
   "cell_type": "code",
   "execution_count": 70,
   "metadata": {},
   "outputs": [
    {
     "data": {
      "text/plain": [
       "Servidor             0\n",
       "Orgao                0\n",
       "Cargo                0\n",
       "SituacaoFuncional    0\n",
       "TotalDescontos       0\n",
       "AbatimentoTeto       0\n",
       "OutrosDescontos      0\n",
       "SalarioBruto         0\n",
       "SalarioLiquido       0\n",
       "Diarias              0\n",
       "dtype: int64"
      ]
     },
     "execution_count": 70,
     "metadata": {},
     "output_type": "execute_result"
    }
   ],
   "source": [
    "df.Cargo = df.Cargo.fillna('Sem cadastro')\n",
    "df.SituacaoFuncional = df.SituacaoFuncional.fillna('Sem cadastro')\n",
    "df.isnull().sum()"
   ]
  },
  {
   "cell_type": "markdown",
   "metadata": {},
   "source": [
    "#### Quantidade de dados duplicados"
   ]
  },
  {
   "cell_type": "code",
   "execution_count": 71,
   "metadata": {},
   "outputs": [
    {
     "data": {
      "text/plain": [
       "384"
      ]
     },
     "execution_count": 71,
     "metadata": {},
     "output_type": "execute_result"
    }
   ],
   "source": [
    "df.duplicated().sum()"
   ]
  },
  {
   "cell_type": "markdown",
   "metadata": {},
   "source": [
    "#### Apaga os dados duplicados"
   ]
  },
  {
   "cell_type": "code",
   "execution_count": 72,
   "metadata": {},
   "outputs": [],
   "source": [
    "df = df.drop_duplicates()"
   ]
  },
  {
   "cell_type": "markdown",
   "metadata": {},
   "source": [
    "### Salva o dataset limpo como csv"
   ]
  },
  {
   "cell_type": "code",
   "execution_count": 74,
   "metadata": {},
   "outputs": [],
   "source": [
    "df.to_csv(\"datasets/servidores_202202_format.csv\")"
   ]
  },
  {
   "cell_type": "code",
   "execution_count": 75,
   "metadata": {},
   "outputs": [],
   "source": [
    "df = pd.read_csv(\"datasets/servidoresformat.csv\")"
   ]
  },
  {
   "cell_type": "code",
   "execution_count": null,
   "metadata": {},
   "outputs": [],
   "source": []
  }
 ],
 "metadata": {
  "interpreter": {
   "hash": "ffa4202c1ac022b62b338bdc13526b20d5e83d548e48fd32873bb02c9b6208f9"
  },
  "kernelspec": {
   "display_name": "Python 3.7.0 ('ste')",
   "language": "python",
   "name": "python3"
  },
  "language_info": {
   "codemirror_mode": {
    "name": "ipython",
    "version": 3
   },
   "file_extension": ".py",
   "mimetype": "text/x-python",
   "name": "python",
   "nbconvert_exporter": "python",
   "pygments_lexer": "ipython3",
   "version": "3.7.0"
  },
  "orig_nbformat": 4
 },
 "nbformat": 4,
 "nbformat_minor": 2
}
